{
 "cells": [
  {
   "cell_type": "code",
   "execution_count": 3,
   "metadata": {
    "collapsed": false
   },
   "outputs": [],
   "source": [
    "import pandas as pd\n",
    "import numpy as np"
   ]
  },
  {
   "cell_type": "code",
   "execution_count": null,
   "metadata": {
    "collapsed": true
   },
   "outputs": [],
   "source": [
    "reviews = pd.read_csv('reviews.csv')\n",
    "users = pd.read_csv('users.csv')"
   ]
  },
  {
   "cell_type": "code",
   "execution_count": 1,
   "metadata": {
    "collapsed": false
   },
   "outputs": [
    {
     "name": "stdout",
     "output_type": "stream",
     "text": [
      "Converting business.json to business.csv\n"
     ]
    }
   ],
   "source": [
    "'''\n",
    "Convert Yelp Academic Dataset from JSON to CSV\n",
    "\n",
    "Requires Pandas (https://pypi.python.org/pypi/pandas)\n",
    "\n",
    "By Paul Butler, No Rights Reserved\n",
    "'''\n",
    " \n",
    "import json\n",
    "import pandas as pd\n",
    "from glob import glob\n",
    " \n",
    "def convert(x):\n",
    "    ''' Convert a json string to a flat python dictionary\n",
    "    which can be passed into Pandas. '''\n",
    "    ob = json.loads(x)\n",
    "    for k, v in ob.items():\n",
    "        if isinstance(v, list):\n",
    "            ob[k] = ','.join(v)\n",
    "        elif isinstance(v, dict):\n",
    "            for kk, vv in v.items():\n",
    "                ob['%s_%s' % (k, kk)] = vv\n",
    "            del ob[k]\n",
    "    return ob\n",
    " \n",
    "for json_filename in glob('*.json'):\n",
    "    csv_filename = '%s.csv' % json_filename[:-5]\n",
    "    print 'Converting %s to %s' % (json_filename, csv_filename)\n",
    "    df = pd.DataFrame([convert(line) for line in file(json_filename)])\n",
    "    df.to_csv(csv_filename, encoding='utf-8', index=False)"
   ]
  },
  {
   "cell_type": "code",
   "execution_count": 13,
   "metadata": {
    "collapsed": false,
    "scrolled": true
   },
   "outputs": [
    {
     "name": "stdout",
     "output_type": "stream",
     "text": [
      "('Warnings raised:', [])\n"
     ]
    }
   ],
   "source": [
    "# business.json contains nested objects that may be empty, so read_csv\n",
    "# was interpreting them as mixed types and throwing an error.\n",
    "# source: http://stackoverflow.com/questions/28682562/pandas-read-csv-converting-mixed-types-columns-as-string\n",
    "\n",
    "import re\n",
    "import pandas \n",
    "import warnings\n",
    "\n",
    "target_type = str  # The desired output type\n",
    "\n",
    "with warnings.catch_warnings(record=True) as ws:\n",
    "    warnings.simplefilter(\"always\")\n",
    "\n",
    "    business = pandas.read_csv('business.csv')\n",
    "    print(\"Warnings raised:\", ws)\n",
    "    # We have an error on specific columns, try and load them as string\n",
    "    for w in ws:\n",
    "        s = str(w.message)\n",
    "        print(\"Warning message:\", s)\n",
    "        match = re.search(r\"Columns \\(([0-9,]+)\\) have mixed types\\.\", s)\n",
    "        if match:\n",
    "            columns = match.group(1).split(',') # Get columns as a list\n",
    "            columns = [int(c) for c in columns]\n",
    "            print(\"Applying %s dtype to columns:\" % target_type, columns)\n",
    "            mydata.iloc[:,columns] = mydata.iloc[:,columns].astype(target_type)"
   ]
  },
  {
   "cell_type": "code",
   "execution_count": 14,
   "metadata": {
    "collapsed": false
   },
   "outputs": [
    {
     "name": "stdout",
     "output_type": "stream",
     "text": [
      "<class 'pandas.core.frame.DataFrame'>\n",
      "Int64Index: 61184 entries, 0 to 61183\n",
      "Data columns (total 58 columns):\n",
      "attributes_Accepts Credit Cards         45072 non-null object\n",
      "attributes_Accepts Insurance            458 non-null object\n",
      "attributes_Ages Allowed                 235 non-null object\n",
      "attributes_Alcohol                      20457 non-null object\n",
      "attributes_Ambience                     18547 non-null object\n",
      "attributes_Attire                       20390 non-null object\n",
      "attributes_BYOB                         866 non-null object\n",
      "attributes_BYOB/Corkage                 1315 non-null object\n",
      "attributes_By Appointment Only          7922 non-null object\n",
      "attributes_Caters                       13116 non-null object\n",
      "attributes_Coat Check                   3699 non-null object\n",
      "attributes_Corkage                      655 non-null object\n",
      "attributes_Delivery                     19924 non-null object\n",
      "attributes_Dietary Restrictions         175 non-null object\n",
      "attributes_Dogs Allowed                 3591 non-null object\n",
      "attributes_Drive-Thru                   2569 non-null object\n",
      "attributes_Good For                     19288 non-null object\n",
      "attributes_Good For Dancing             3581 non-null object\n",
      "attributes_Good For Groups              22406 non-null object\n",
      "attributes_Good For Kids                2345 non-null object\n",
      "attributes_Good for Kids                25371 non-null object\n",
      "attributes_Hair Types Specialized In    326 non-null object\n",
      "attributes_Happy Hour                   3728 non-null object\n",
      "attributes_Has TV                       19338 non-null object\n",
      "attributes_Music                        3700 non-null object\n",
      "attributes_Noise Level                  18519 non-null object\n",
      "attributes_Open 24 Hours                334 non-null object\n",
      "attributes_Order at Counter             384 non-null object\n",
      "attributes_Outdoor Seating              23033 non-null object\n",
      "attributes_Parking                      37967 non-null object\n",
      "attributes_Payment Types                42 non-null object\n",
      "attributes_Price Range                  41694 non-null float64\n",
      "attributes_Smoking                      4088 non-null object\n",
      "attributes_Take-out                     20300 non-null object\n",
      "attributes_Takes Reservations           19801 non-null object\n",
      "attributes_Waiter Service               18863 non-null object\n",
      "attributes_Wheelchair Accessible        19527 non-null object\n",
      "attributes_Wi-Fi                        17898 non-null object\n",
      "business_id                             61184 non-null object\n",
      "categories                              60667 non-null object\n",
      "city                                    61184 non-null object\n",
      "full_address                            61184 non-null object\n",
      "hours_Friday                            35306 non-null object\n",
      "hours_Monday                            33457 non-null object\n",
      "hours_Saturday                          32601 non-null object\n",
      "hours_Sunday                            25273 non-null object\n",
      "hours_Thursday                          35445 non-null object\n",
      "hours_Tuesday                           35034 non-null object\n",
      "hours_Wednesday                         35319 non-null object\n",
      "latitude                                61184 non-null float64\n",
      "longitude                               61184 non-null float64\n",
      "name                                    61184 non-null object\n",
      "neighborhoods                           21498 non-null object\n",
      "open                                    61184 non-null bool\n",
      "review_count                            61184 non-null int64\n",
      "stars                                   61184 non-null float64\n",
      "state                                   61184 non-null object\n",
      "type                                    61184 non-null object\n",
      "dtypes: bool(1), float64(4), int64(1), object(52)"
     ]
    }
   ],
   "source": [
    "business.info()"
   ]
  },
  {
   "cell_type": "code",
   "execution_count": 10,
   "metadata": {
    "collapsed": false
   },
   "outputs": [
    {
     "name": "stdout",
     "output_type": "stream",
     "text": [
      "<class 'pandas.core.frame.DataFrame'>\n",
      "Int64Index: 61184 entries, 0 to 61183\n",
      "Columns: 105 entries, attributes.Ambience.divey to attributes.Ambience.upscale\n",
      "dtypes: bool(1), float64(4), int64(1), object(99)"
     ]
    }
   ],
   "source": []
  },
  {
   "cell_type": "code",
   "execution_count": null,
   "metadata": {
    "collapsed": true
   },
   "outputs": [],
   "source": []
  },
  {
   "cell_type": "code",
   "execution_count": null,
   "metadata": {
    "collapsed": true
   },
   "outputs": [],
   "source": []
  },
  {
   "cell_type": "code",
   "execution_count": null,
   "metadata": {
    "collapsed": true
   },
   "outputs": [],
   "source": []
  },
  {
   "cell_type": "code",
   "execution_count": null,
   "metadata": {
    "collapsed": true
   },
   "outputs": [],
   "source": []
  },
  {
   "cell_type": "code",
   "execution_count": null,
   "metadata": {
    "collapsed": true
   },
   "outputs": [],
   "source": []
  },
  {
   "cell_type": "code",
   "execution_count": null,
   "metadata": {
    "collapsed": true
   },
   "outputs": [],
   "source": []
  },
  {
   "cell_type": "code",
   "execution_count": null,
   "metadata": {
    "collapsed": true
   },
   "outputs": [],
   "source": []
  }
 ],
 "metadata": {
  "kernelspec": {
   "display_name": "Python 2",
   "language": "python",
   "name": "python2"
  },
  "language_info": {
   "codemirror_mode": {
    "name": "ipython",
    "version": 2
   },
   "file_extension": ".py",
   "mimetype": "text/x-python",
   "name": "python",
   "nbconvert_exporter": "python",
   "pygments_lexer": "ipython2",
   "version": "2.7.8"
  }
 },
 "nbformat": 4,
 "nbformat_minor": 0
}
